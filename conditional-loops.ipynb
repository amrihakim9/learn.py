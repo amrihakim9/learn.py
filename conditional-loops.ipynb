{
 "cells": [
  {
   "cell_type": "markdown",
   "metadata": {},
   "source": [
    "# CONDITIONAL & LOOPS"
   ]
  },
  {
   "cell_type": "markdown",
   "metadata": {},
   "source": [
    "## Conditional"
   ]
  },
  {
   "cell_type": "code",
   "execution_count": 2,
   "metadata": {},
   "outputs": [
    {
     "name": "stdout",
     "output_type": "stream",
     "text": [
      "Hasilnya benar\n"
     ]
    }
   ],
   "source": [
    "# conditional\n",
    "\n",
    "# cek apakah 1+1 == 2 (True/False)\n",
    "if (1 + 1) == 2:\n",
    "    print(\"Hasilnya benar\")\n",
    "else:\n",
    "    print(\"Hasilnya salah\")"
   ]
  },
  {
   "cell_type": "code",
   "execution_count": 4,
   "metadata": {},
   "outputs": [
    {
     "name": "stdout",
     "output_type": "stream",
     "text": [
      "Genap\n"
     ]
    }
   ],
   "source": [
    "# cek genap / ganjil\n",
    "\n",
    "if 10 % 2 == 0:\n",
    "    print('Genap')\n",
    "else:\n",
    "    print('Ganjil')"
   ]
  },
  {
   "cell_type": "code",
   "execution_count": 10,
   "metadata": {},
   "outputs": [
    {
     "name": "stdout",
     "output_type": "stream",
     "text": [
      "Kondisi ke-1 benar\n",
      "Kondisi ke-2 salah\n",
      "Kondisi ke-3 benar\n",
      "Kondisi ke-3 benar\n"
     ]
    }
   ],
   "source": [
    "# boolean logic (and/or)\n",
    "\n",
    "# AND Logic (Jika ada salah satu yang False, maka nilai yang dikeluarkan adalah False.)\n",
    "# True and False = False\n",
    "# True and True = True\n",
    "# False and False = False\n",
    "\n",
    "# OR Logic (Jika ada salah satu yang True, maka nilai yang dikeluarkan adalah True.)\n",
    "# True or False = True\n",
    "# True or True = True\n",
    "# False or False = False\n",
    "\n",
    "# contoh boolean logic AND\n",
    "if 1 + 1 == 2 and 5<9:\n",
    "    print('Kondisi ke-1 benar')\n",
    "else:\n",
    "    print(\"Kondisi ke-1 salah\")\n",
    "\n",
    "if 1 + 1 == 2 and 5>9:\n",
    "    print('Kondisi ke-2 benar')\n",
    "else:\n",
    "    print(\"Kondisi ke-2 salah\")\n",
    "\n",
    "# contoh boolean logic or\n",
    "if 1 + 1 == 2 or 5<9:\n",
    "    print('Kondisi ke-3 benar')\n",
    "else:\n",
    "    print(\"Kondisi ke-3 salah\")\n",
    "\n",
    "if 1 + 1 == 2 or 5>9:\n",
    "    print('Kondisi ke-3 benar')\n",
    "else:\n",
    "    print(\"Kondisi ke-3 salah\")"
   ]
  },
  {
   "cell_type": "markdown",
   "metadata": {},
   "source": [
    "#### Terlihat bahwa pada boolean logic AND, jika True and True, maka nilai yang dikeluarkan adalah True (Kondisi ke-1). Dan jika True and False, maka nilai yang dikeluarkan adalah False (Kondisi ke-2).\n",
    "\n",
    "#### Dan untuk logic OR, terlihat pada kondisi ke-3 dan ke-4 yang dikeluarkan adalah nilai True, karena terdapat salah satu nilai yang True."
   ]
  },
  {
   "cell_type": "code",
   "execution_count": 22,
   "metadata": {},
   "outputs": [
    {
     "name": "stdout",
     "output_type": "stream",
     "text": [
      "Hahahahaa\n",
      "D\n"
     ]
    }
   ],
   "source": [
    "# multiple condition\n",
    "num1 = 4\n",
    "if num1 == 1:\n",
    "    print(\"Haiii\")\n",
    "    if num1 % 2 == 0:\n",
    "        print(\"Heiii\")\n",
    "    else:\n",
    "        print(\"Nahh\") \n",
    "elif num1 == 4:\n",
    "    print(\"Hahahahaa\")\n",
    "else: \n",
    "    print(\"Wkwkwk\")\n",
    "\n",
    "# bisa juga menggunakan match\n",
    "match num1:\n",
    "    case 1 :\n",
    "        print(\"A\")\n",
    "    case 2 :\n",
    "        print(\"B\")\n",
    "    case 3 :\n",
    "        print(\"C\")    \n",
    "    case 4 :\n",
    "        print(\"D\")    \n",
    "    case 5 :\n",
    "        print(\"E\")    \n",
    "    case 6 :\n",
    "        print(\"F\")\n",
    "    case 7 :\n",
    "        print(\"G\")"
   ]
  },
  {
   "cell_type": "code",
   "execution_count": 16,
   "metadata": {},
   "outputs": [
    {
     "name": "stdout",
     "output_type": "stream",
     "text": [
      "Benar\n",
      "Haii\n"
     ]
    }
   ],
   "source": [
    "# ternary (max. 1 line) untuk pengganti if-else. Tidak dengan elif\n",
    "\n",
    "# normal if (min. 2 lines)\n",
    "num2 = 9\n",
    "if num2 != 4:\n",
    "    print(\"Benar\")\n",
    "else:\n",
    "    print(\"Salah\")\n",
    "\n",
    "print(\"Haii\") if num2 != 4 else print(\"Yeahh\")"
   ]
  },
  {
   "cell_type": "markdown",
   "metadata": {},
   "source": [
    "## Loops"
   ]
  },
  {
   "cell_type": "code",
   "execution_count": 7,
   "metadata": {},
   "outputs": [
    {
     "name": "stdout",
     "output_type": "stream",
     "text": [
      "5\n",
      "6\n",
      "7\n",
      "8\n",
      "9\n"
     ]
    }
   ],
   "source": [
    "# running program 1+1, 1+2, 1+3\n",
    "# print(1+1)\n",
    "# print(1+2)\n",
    "# print(1+3)\n",
    "# print(1+4)\n",
    "\n",
    "# while\n",
    "num3 = 5\n",
    "while num3 < 10:\n",
    "    print(num3)\n",
    "    num3 = num3 + 1 # variabel dan value baru"
   ]
  },
  {
   "cell_type": "code",
   "execution_count": 21,
   "metadata": {},
   "outputs": [
    {
     "name": "stdout",
     "output_type": "stream",
     "text": [
      "5\n",
      "6\n",
      "Lanjutkan iterasi\n",
      "8\n",
      "9\n"
     ]
    }
   ],
   "source": [
    "# terminate loop (break & continue)\n",
    "# break -> terminate looping completely\n",
    "# continue -> terminate iteration\n",
    "\n",
    "num3 = 5\n",
    "\n",
    "# while num3 < 10:\n",
    "#     if num3 == 7:\n",
    "#         num3 = num3 + 1\n",
    "#         print(\"Iterasi dihentikan\")\n",
    "#         break\n",
    "#     print(num3)\n",
    "#     num3 = num3 + 1\n",
    "\n",
    "while num3 < 10:\n",
    "    if num3 == 7:\n",
    "        num3 = num3 + 1\n",
    "        print(\"Lanjutkan iterasi\")\n",
    "        continue\n",
    "    print(num3)\n",
    "    num3 = num3 + 1\n",
    "    "
   ]
  },
  {
   "cell_type": "code",
   "execution_count": 25,
   "metadata": {},
   "outputs": [
    {
     "name": "stdout",
     "output_type": "stream",
     "text": [
      "GOAT\n",
      "> lionel\n",
      "> messi\n",
      "KING\n",
      "> lionel\n",
      "> messi\n"
     ]
    }
   ],
   "source": [
    "# nested while loops\n",
    "a = ['GOAT', 'KING']\n",
    "\n",
    "while len(a):\n",
    "    print(a.pop(0)) # pop untuk mengeluarkan value pada index ke-()\n",
    "\n",
    "    b = ['lionel', 'messi']\n",
    "\n",
    "    while len(b):\n",
    "        print('>', b.pop(0))"
   ]
  },
  {
   "cell_type": "code",
   "execution_count": 26,
   "metadata": {},
   "outputs": [
    {
     "name": "stdout",
     "output_type": "stream",
     "text": [
      "1\n",
      "amri\n",
      "4.9\n",
      "1 adalah angka ganjil\n",
      "2 adalah angka genap\n",
      "3 adalah angka ganjil\n",
      "4 adalah angka genap\n",
      "5 adalah angka ganjil\n",
      "6 adalah angka genap\n",
      "7 adalah angka ganjil\n",
      "8 adalah angka genap\n",
      "9 adalah angka ganjil\n",
      "10 adalah angka genap\n"
     ]
    }
   ],
   "source": [
    "# for (akan mengeluarkan value pada index ke-0 terlebih dahulu. Baru kemudian ke-1, ke-2, dst...)\n",
    "\n",
    "for i in [1, \"amri\", 4.9]:\n",
    "    print(i)\n",
    "\n",
    "# for range\n",
    "for i in range(1,11):\n",
    "    if i % 2 == 0:\n",
    "        print(f\"{i} adalah angka genap\")\n",
    "    else:\n",
    "        print(f\"{i} adalah angka ganjil\")"
   ]
  },
  {
   "cell_type": "code",
   "execution_count": 29,
   "metadata": {},
   "outputs": [
    {
     "name": "stdout",
     "output_type": "stream",
     "text": [
      "1 adalah angka ganjil\n",
      "2 adalah angka genap\n",
      "3 adalah angka ganjil\n",
      "4 adalah angka genap\n",
      "5 adalah angka ganjil\n",
      "6 adalah angka genap\n",
      "7 adalah angka ganjil\n",
      "8 adalah angka genap\n",
      "9 adalah angka ganjil\n",
      "10 adalah angka genap\n"
     ]
    },
    {
     "data": {
      "text/plain": [
       "[None, None, None, None, None, None, None, None, None, None]"
      ]
     },
     "execution_count": 29,
     "metadata": {},
     "output_type": "execute_result"
    }
   ],
   "source": [
    "# ternary for -> berguna untuk generate list angka\n",
    "# [print(i) for i in range(1,11)]\n",
    "[print(f\"{i} adalah angka genap\") if i % 2 == 0 else print(f\"{i} adalah angka ganjil\") for i in range(1,11)]"
   ]
  },
  {
   "cell_type": "markdown",
   "metadata": {},
   "source": [
    "# Excercise 1\n",
    "\n",
    "Write a Python program to construct the following pattern, using a nested loop number.\n",
    "\n",
    "Expected Output:\n",
    "```\n",
    "1\n",
    "22\n",
    "333\n",
    "4444\n",
    "55555\n",
    "666666\n",
    "7777777\n",
    "88888888\n",
    "999999999"
   ]
  },
  {
   "cell_type": "code",
   "execution_count": 39,
   "metadata": {},
   "outputs": [
    {
     "name": "stdout",
     "output_type": "stream",
     "text": [
      "1\n",
      "22\n",
      "333\n",
      "4444\n",
      "55555\n",
      "666666\n",
      "7777777\n",
      "88888888\n",
      "999999999\n"
     ]
    }
   ],
   "source": [
    "for i in range(1, 10):\n",
    "    for j in range(i):\n",
    "        print(i, end ='')\n",
    "    print()"
   ]
  },
  {
   "cell_type": "markdown",
   "metadata": {},
   "source": [
    "# Exercise 2\n",
    "\n",
    "Write a Python program to check the validity of passwords input by users.\n",
    "```\n",
    "Validation :\n",
    "At least 1 letter between [a-z] and 1 letter between [A-Z].\n",
    "At least 1 number between [0-9].\n",
    "At least 1 character from [$#@].\n",
    "Minimum length 6 characters.\n",
    "Maximum length 16 characters.\n",
    "```"
   ]
  },
  {
   "cell_type": "code",
   "execution_count": 41,
   "metadata": {},
   "outputs": [
    {
     "name": "stdout",
     "output_type": "stream",
     "text": [
      "Password must be between 6 and 16 characters.\n",
      "Password must contain at least one of the characters $, #, or @.\n",
      "Password must contain at least one uppercase letter.\n",
      "Password is valid.\n"
     ]
    }
   ],
   "source": [
    "#@title Solution\n",
    "valid = False\n",
    "\n",
    "while not valid:\n",
    "    password = input(\"Enter a password: \")\n",
    "\n",
    "    if len(password) < 6 or len(password) > 16:\n",
    "        print(\"Password must be between 6 and 16 characters.\")\n",
    "    elif not any(i.islower() for i in password):\n",
    "        print(\"Password must contain at least one lowercase letter.\")\n",
    "    elif not any(i.isupper() for i in password):\n",
    "        print(\"Password must contain at least one uppercase letter.\")\n",
    "    elif not any(i.isdigit() for i in password):\n",
    "        print(\"Password must contain at least one digit.\")\n",
    "    elif not any(i in ['$','#','@'] for i in password):\n",
    "        print(\"Password must contain at least one of the characters $, #, or @.\")\n",
    "    else:\n",
    "        valid = True\n",
    "        print(\"Password is valid.\")"
   ]
  }
 ],
 "metadata": {
  "kernelspec": {
   "display_name": "base",
   "language": "python",
   "name": "python3"
  },
  "language_info": {
   "codemirror_mode": {
    "name": "ipython",
    "version": 3
   },
   "file_extension": ".py",
   "mimetype": "text/x-python",
   "name": "python",
   "nbconvert_exporter": "python",
   "pygments_lexer": "ipython3",
   "version": "3.11.5"
  }
 },
 "nbformat": 4,
 "nbformat_minor": 2
}
