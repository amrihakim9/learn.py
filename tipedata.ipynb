{
 "cells": [
  {
   "cell_type": "code",
   "execution_count": 23,
   "metadata": {},
   "outputs": [
    {
     "name": "stdout",
     "output_type": "stream",
     "text": [
      "Hello World\n",
      "Halo, nama saya Amri\n"
     ]
    }
   ],
   "source": [
    "\n",
    "\n",
    "# ('') atau (\"\")\n",
    "\n",
    "print (\"Hello World\")\n",
    "print ('Halo, nama saya Amri')"
   ]
  },
  {
   "cell_type": "markdown",
   "metadata": {},
   "source": []
  },
  {
   "cell_type": "code",
   "execution_count": 24,
   "metadata": {},
   "outputs": [
    {
     "name": "stdout",
     "output_type": "stream",
     "text": [
      "1234\n",
      "1.2 2.3\n"
     ]
    }
   ],
   "source": [
    "# numeric (num)\n",
    "\n",
    "print (1234) # integer (int)\n",
    "print (1.2, 2.3) # float"
   ]
  },
  {
   "cell_type": "code",
   "execution_count": 6,
   "metadata": {},
   "outputs": [
    {
     "name": "stdout",
     "output_type": "stream",
     "text": [
      "1\n",
      "2\n",
      "3\n",
      "4\n",
      "5\n",
      "6\n",
      "7\n",
      "8\n",
      "9\n",
      "10\n"
     ]
    }
   ],
   "source": [
    "# sequence (collection)\n",
    "\n",
    "# list -> square bracket []\n",
    "# Dapat diubah datanya\n",
    "[1,2,3,4,5]\n",
    "['a', 'b', 'c']\n",
    "['a', 1, 'b', 2, 'c', 3]\n",
    "\n",
    "# tuple -> ()\n",
    "# Tidak dapat diubah datanya\n",
    "(1,2,3,4,5)\n",
    "\n",
    "# range -> fitur bawaan Python\n",
    "for i in range(1,11):\n",
    "    print(i)"
   ]
  },
  {
   "cell_type": "code",
   "execution_count": 12,
   "metadata": {},
   "outputs": [
    {
     "data": {
      "text/plain": [
       "5"
      ]
     },
     "execution_count": 12,
     "metadata": {},
     "output_type": "execute_result"
    }
   ],
   "source": [
    "# contoh list\n",
    "\n",
    "listAngka = [1,2,3,4,5]\n",
    "listAngka[4] # Mengambil data pada index ke-4"
   ]
  },
  {
   "cell_type": "code",
   "execution_count": 25,
   "metadata": {},
   "outputs": [
    {
     "name": "stdout",
     "output_type": "stream",
     "text": [
      "hello\n"
     ]
    }
   ],
   "source": [
    "# variable (var)\n",
    "\n",
    "hello123 = \"hello\"\n",
    "koleksiAngka = [1,2,3,4,5]\n",
    "\n",
    "print(hello123)"
   ]
  },
  {
   "cell_type": "code",
   "execution_count": 70,
   "metadata": {},
   "outputs": [
    {
     "name": "stdout",
     "output_type": "stream",
     "text": [
      "[1, 2, 3, 4, 5]\n",
      "2\n",
      "11\n"
     ]
    }
   ],
   "source": [
    "# mapping\n",
    "\n",
    "# dictionary (dict)\n",
    "# air = \"udara\" -> \"key\" = \"value\"\n",
    "# value pada dictionary dapat berupa tipe data apa saja\n",
    "\n",
    "dict1 = {\n",
    "    \"air\":\"udara\",\n",
    "    \"ground\":\"tanah\",\n",
    "    \"number1\":1,\n",
    "    \"number2\":\"2\",\n",
    "    \"collectionNumber\":[1,2,3,4,5],\n",
    "}\n",
    "\n",
    "# akses data pada dictionary\n",
    "print(dict1[\"collectionNumber\"])\n",
    "\n",
    "# set -> sifatnya mengabaikan duplikasi data\n",
    "set = {\"apple\", \"banana\", \"apple\"}\n",
    "# len list -> tetap menghitung duplikasi data\n",
    "list = [1,2,3,4,5,5,3,2,2,3,6]\n",
    "\n",
    "# len() -> fitur untuk melihat panjang data di list, tuple, dan set\n",
    "\n",
    "print(len(set))\n",
    "print(len(list))"
   ]
  },
  {
   "cell_type": "code",
   "execution_count": 40,
   "metadata": {},
   "outputs": [
    {
     "name": "stdout",
     "output_type": "stream",
     "text": [
      "True\n",
      "False\n"
     ]
    }
   ],
   "source": [
    "# boolean (True / False)\n",
    "\n",
    "benar = True\n",
    "salah = False\n",
    "\n",
    "# contoh boolean dasar\n",
    "print(1 == 1) \n",
    "print(1 != 1)"
   ]
  },
  {
   "cell_type": "code",
   "execution_count": 52,
   "metadata": {},
   "outputs": [
    {
     "name": "stdout",
     "output_type": "stream",
     "text": [
      "64\n",
      "0\n",
      "2\n",
      "False\n",
      "HaloooHaloooHalooo\n",
      "HaloooHaloooHaloooAmri\n"
     ]
    }
   ],
   "source": [
    "# operator\n",
    "\n",
    "# assignment =\n",
    "# aritmathic + - * / ** %\n",
    "# comparison == > >== <== !=\n",
    "\n",
    "# contoh pangkat (** = kuadrat)\n",
    "print(8**2)\n",
    "\n",
    "# contoh modulo (% = sisa bagi)\n",
    "print(10%2)\n",
    "\n",
    "# expression (operation + value)\n",
    "print(1 + 1) # -> expression\n",
    "print(1 == 2) # -> expression\n",
    "\n",
    "# string on math operation\n",
    "str1 = \"Halooo\" * 3\n",
    "print(str1)\n",
    "\n",
    "str2 = 'Amri'\n",
    "print(str1 + str2)"
   ]
  },
  {
   "cell_type": "code",
   "execution_count": 55,
   "metadata": {},
   "outputs": [
    {
     "name": "stdout",
     "output_type": "stream",
     "text": [
      "Muhammad amri hakim\n",
      "muhammad amri hakim\n",
      "MUHAMMAD AMRI HAKIM\n",
      "mUHAMMAD aMRI hAKIM\n"
     ]
    }
   ],
   "source": [
    "# operasi manipulasi string\n",
    "\n",
    "str2 = \"Muhammad Amri Hakim\"\n",
    "\n",
    "# .capitalize()\n",
    "print(str2.capitalize())\n",
    "\n",
    "# .lower() / .upper()\n",
    "print(str2.lower())\n",
    "print(str2.upper())\n",
    "\n",
    "# .swapcase()\n",
    "print(str2.swapcase())"
   ]
  },
  {
   "cell_type": "code",
   "execution_count": 68,
   "metadata": {},
   "outputs": [
    {
     "name": "stdout",
     "output_type": "stream",
     "text": [
      "[1, 2, 6, 4, 5]\n",
      "5\n",
      "[1, 2, 6]\n",
      "[1, 2]\n",
      "[1, 2, 3, [4, 5, 6]]\n",
      "5\n"
     ]
    }
   ],
   "source": [
    "# manipulasi list\n",
    "list1 = [1,2,3,4,5]\n",
    "list1[2] = 6\n",
    "print(list1)\n",
    "\n",
    "# indeks minus\n",
    "print(list1[-1])\n",
    "\n",
    "# slicing\n",
    "print(list1[0:3])\n",
    "print(list1[0:-3])\n",
    "\n",
    "# nested list dan indeksnya\n",
    "nList = [1,2,3, [4,5,6]]\n",
    "print(nList)\n",
    "print(nList[3][1])"
   ]
  },
  {
   "cell_type": "code",
   "execution_count": 63,
   "metadata": {},
   "outputs": [
    {
     "name": "stdout",
     "output_type": "stream",
     "text": [
      "(1, 2, 3, 4, 5)\n",
      "3\n",
      "1 2 3 4\n",
      "2\n"
     ]
    }
   ],
   "source": [
    "# contoh tuple (immutable = tidak dapat diubah datanya)\n",
    "\n",
    "tuple1 = (1,2,3,4,5)\n",
    "print(tuple1)\n",
    "print(tuple1[2]) # ini cara dasar atau cara normalnya\n",
    "\n",
    "(a,b,c,d) = (1,2,3,4)\n",
    "print(a,b,c,d)\n",
    "print(b) # cara cepatnya seperti ini. diharuskan variable == value"
   ]
  },
  {
   "cell_type": "code",
   "execution_count": 77,
   "metadata": {},
   "outputs": [
    {
     "name": "stdout",
     "output_type": "stream",
     "text": [
      "{'air': 'udara', 'ground': 'tanah', 'number1': 1, 'number2': '2', 'collectionNumber': 'Amri', 'dict1.1': {'k1': '3.7', 'k2': (4.7, 9, 'arka'), 'k3': [3.6, 7.9, 9, 'wisma']}, 'ball': 'bola'}\n"
     ]
    },
    {
     "data": {
      "text/plain": [
       "[3.6, 7.9, 9, 'wisma']"
      ]
     },
     "execution_count": 77,
     "metadata": {},
     "output_type": "execute_result"
    }
   ],
   "source": [
    "# contoh dictionary (mutable = data dapat diubah)\n",
    "\n",
    "dict1 = {\n",
    "    \"air\":\"udara\",\n",
    "    \"ground\":\"tanah\",\n",
    "    \"number1\":1,\n",
    "    \"number2\":\"2\",\n",
    "    \"collectionNumber\":[1,2,3,4,5],\n",
    "    \"dict1.1\":{\"k1\":\"3.7\",\"k2\":(4.7,9,\"arka\"),\"k3\":[3.6, 7.9, 9, \"wisma\"]}  \n",
    "}\n",
    "\n",
    "# modify data pada dictionary\n",
    "dict1[\"collectionNumber\"] = \"Amri\"\n",
    "\n",
    "# add data pada dictionary\n",
    "dict1[\"ball\"] = \"bola\"\n",
    "print(dict1)\n",
    "\n",
    "# nested dictionary\n",
    "dict1[\"dict1.1\"][\"k3\"]"
   ]
  }
 ],
 "metadata": {
  "kernelspec": {
   "display_name": "Python 3",
   "language": "python",
   "name": "python3"
  },
  "language_info": {
   "codemirror_mode": {
    "name": "ipython",
    "version": 3
   },
   "file_extension": ".py",
   "mimetype": "text/x-python",
   "name": "python",
   "nbconvert_exporter": "python",
   "pygments_lexer": "ipython3",
   "version": "3.11.5"
  }
 },
 "nbformat": 4,
 "nbformat_minor": 2
}
